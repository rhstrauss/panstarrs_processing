{
 "cells": [
  {
   "cell_type": "code",
   "execution_count": 1,
   "id": "af5a712c-3d5a-424b-ad9a-13d15a99cfb5",
   "metadata": {},
   "outputs": [],
   "source": [
    "import numpy as np"
   ]
  },
  {
   "cell_type": "code",
   "execution_count": 4,
   "id": "c79106b8-6438-42ee-bcc7-f16cf7214155",
   "metadata": {},
   "outputs": [
    {
     "name": "stdout",
     "output_type": "stream",
     "text": [
      "225.0\n"
     ]
    }
   ],
   "source": [
    "deg_day = 1.5\n",
    "\n",
    "deg_hr = deg_day/24\n",
    "\n",
    "as_hr = deg_hr*3600\n",
    "\n",
    "print(as_hr)"
   ]
  },
  {
   "cell_type": "code",
   "execution_count": null,
   "id": "2bf814a9-8d45-4241-a69c-fdaf1d720c11",
   "metadata": {},
   "outputs": [],
   "source": []
  }
 ],
 "metadata": {
  "kernelspec": {
   "display_name": "Python 3 (ipykernel)",
   "language": "python",
   "name": "python3"
  },
  "language_info": {
   "codemirror_mode": {
    "name": "ipython",
    "version": 3
   },
   "file_extension": ".py",
   "mimetype": "text/x-python",
   "name": "python",
   "nbconvert_exporter": "python",
   "pygments_lexer": "ipython3",
   "version": "3.12.7"
  }
 },
 "nbformat": 4,
 "nbformat_minor": 5
}
